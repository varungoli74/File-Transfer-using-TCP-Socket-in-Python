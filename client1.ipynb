{
 "cells": [
  {
   "cell_type": "code",
   "execution_count": 5,
   "id": "658c83ab-884c-44d7-a259-2ba9c60d5cb0",
   "metadata": {
    "tags": []
   },
   "outputs": [
    {
     "name": "stdout",
     "output_type": "stream",
     "text": [
      "[SERVER]: Filename received.\n",
      "[SERVER]: File data received\n"
     ]
    }
   ],
   "source": [
    "import socket\n",
    "\n",
    "IP = socket.gethostbyname(socket.gethostname())\n",
    "PORT = 4455\n",
    "ADDR = (IP, PORT)\n",
    "FORMAT = \"utf-8\"\n",
    "SIZE = 1024\n",
    "\n",
    "def main():\n",
    "    \"\"\" Staring a TCP socket. \"\"\"\n",
    "    client = socket.socket(socket.AF_INET, socket.SOCK_STREAM)\n",
    "\n",
    "    \"\"\" Connecting to the server. \"\"\"\n",
    "    client.connect(ADDR)\n",
    "\n",
    "    \"\"\" Opening and reading the file data. \"\"\"\n",
    "    file = open(\"data/yt.txt\", \"r\")\n",
    "    data = file.read()\n",
    "\n",
    "    \"\"\" Sending the filename to the server. \"\"\"\n",
    "    client.send(\"yt.txt\".encode(FORMAT))\n",
    "    msg = client.recv(SIZE).decode(FORMAT)\n",
    "    print(f\"[SERVER]: {msg}\")\n",
    "\n",
    "    \"\"\" Sending the file data to the server. \"\"\"\n",
    "    client.send(data.encode(FORMAT))\n",
    "    msg = client.recv(SIZE).decode(FORMAT)\n",
    "    print(f\"[SERVER]: {msg}\")\n",
    "\n",
    "    \"\"\" Closing the file. \"\"\"\n",
    "    file.close()\n",
    "\n",
    "    \"\"\" Closing the connection from the server. \"\"\"\n",
    "    client.close()\n",
    "\n",
    "\n",
    "if __name__ == \"__main__\":\n",
    "    main()\n"
   ]
  }
 ],
 "metadata": {
  "kernelspec": {
   "display_name": "Python 3 (ipykernel)",
   "language": "python",
   "name": "python3"
  },
  "language_info": {
   "codemirror_mode": {
    "name": "ipython",
    "version": 3
   },
   "file_extension": ".py",
   "mimetype": "text/x-python",
   "name": "python",
   "nbconvert_exporter": "python",
   "pygments_lexer": "ipython3",
   "version": "3.11.5"
  }
 },
 "nbformat": 4,
 "nbformat_minor": 5
}
