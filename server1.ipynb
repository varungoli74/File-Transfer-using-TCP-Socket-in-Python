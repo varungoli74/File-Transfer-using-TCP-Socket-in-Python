{
 "cells": [
  {
   "cell_type": "code",
   "execution_count": null,
   "id": "41f1f42b-8d3b-4420-bac7-f42c73685d8c",
   "metadata": {
    "tags": []
   },
   "outputs": [
    {
     "name": "stdout",
     "output_type": "stream",
     "text": [
      "[STARTING] Server is starting.\n",
      "[LISTENING] Server is listening.\n",
      "[NEW CONNECTION] ('192.168.1.190', 52959) connected.\n",
      "[RECV] Receiving the filename.\n",
      "[RECV] Receiving the file data.\n",
      "[DISCONNECTED] ('192.168.1.190', 52959) disconnected.\n"
     ]
    }
   ],
   "source": [
    "import socket\n",
    "\n",
    "IP = socket.gethostbyname(socket.gethostname())\n",
    "PORT = 4455\n",
    "ADDR = (IP, PORT)\n",
    "SIZE = 1024\n",
    "FORMAT = \"utf-8\"\n",
    "\n",
    "def main():\n",
    "    print(\"[STARTING] Server is starting.\")\n",
    "    \"\"\" Staring a TCP socket. \"\"\"\n",
    "    server = socket.socket(socket.AF_INET, socket.SOCK_STREAM)\n",
    "\n",
    "    \"\"\" Bind the IP and PORT to the server. \"\"\"\n",
    "    server.bind(ADDR)\n",
    "\n",
    "    \"\"\" Server is listening, i.e., server is now waiting for the client to connected. \"\"\"\n",
    "    server.listen()\n",
    "    print(\"[LISTENING] Server is listening.\")\n",
    "\n",
    "    while True:\n",
    "        \"\"\" Server has accepted the connection from the client. \"\"\"\n",
    "        conn, addr = server.accept()\n",
    "        print(f\"[NEW CONNECTION] {addr} connected.\")\n",
    "\n",
    "        \"\"\" Receiving the filename from the client. \"\"\"\n",
    "        filename = conn.recv(SIZE).decode(FORMAT)\n",
    "        print(f\"[RECV] Receiving the filename.\")\n",
    "        file = open(filename, \"w\")\n",
    "        conn.send(\"Filename received.\".encode(FORMAT))\n",
    "\n",
    "        \"\"\" Receiving the file data from the client. \"\"\"\n",
    "        data = conn.recv(SIZE).decode(FORMAT)\n",
    "        print(f\"[RECV] Receiving the file data.\")\n",
    "        file.write(data)\n",
    "        conn.send(\"File data received\".encode(FORMAT))\n",
    "\n",
    "        \"\"\" Closing the file. \"\"\"\n",
    "        file.close()\n",
    "\n",
    "        \"\"\" Closing the connection from the client. \"\"\"\n",
    "        conn.close()\n",
    "        print(f\"[DISCONNECTED] {addr} disconnected.\")\n",
    "\n",
    "if __name__ == \"__main__\":\n",
    "    main()\n"
   ]
  }
 ],
 "metadata": {
  "kernelspec": {
   "display_name": "Python 3 (ipykernel)",
   "language": "python",
   "name": "python3"
  },
  "language_info": {
   "codemirror_mode": {
    "name": "ipython",
    "version": 3
   },
   "file_extension": ".py",
   "mimetype": "text/x-python",
   "name": "python",
   "nbconvert_exporter": "python",
   "pygments_lexer": "ipython3",
   "version": "3.11.5"
  }
 },
 "nbformat": 4,
 "nbformat_minor": 5
}
